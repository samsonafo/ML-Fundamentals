{
 "cells": [
  {
   "cell_type": "markdown",
   "metadata": {},
   "source": [
    "# Clustering - K-Means"
   ]
  },
  {
   "cell_type": "markdown",
   "metadata": {},
   "source": [
    "## 1. Definition\n",
    "\n",
    "K-Means an ***unsupervised learning*** algorithm, meaning, it does not depend on ***labels***.\n",
    "\n",
    "It is used to iteratively ***cluster*** instances into ***k*** distinct groups. The number of clusters ***k*** must be provided.\n",
    "\n",
    "### 1.1 Algorithm\n",
    "\n",
    "It starts with ***k*** initial ***centroids*** - randomly select data points, for instance - and then:\n",
    "1. computes ***distances*** of each point to ***all centroids*** and assigns each point to the ***centroid*** corresponding to the ***shortest distance***\n",
    "2. ***recomputing*** the centroid coordinates using the ***mean of all points assigned to it***\n",
    "\n",
    "The process is repeated until ***no reassignment*** happens anymore, or the maximum number of iterations is reached (like 100).\n",
    "\n",
    "### 1.2 Centroids' Initialization\n",
    "\n",
    "One of the caveats of ***K-means*** algorithm is the fact that it is resulting clustering is ***dependent on initialization***. If you randomly initialize the centroids and apply K-means multiple times, it is very likely you'll end up with slightly different clusters every time.\n",
    "\n",
    "One way of mitigating this issue is to perform ***several random initializations*** and then choose the one that minimizes better the inertia. There are also other ***initialization methods***, but this is out of our scope now.\n",
    "\n",
    "### 1.3 Loss\n",
    "\n",
    "Effectively, the algorithm is ***minimizing*** the ***within-cluster squared sum of errors (SSE)*** or ***inertia***, computing it for each cluste using its points and the corresponding mean. \n",
    "\n",
    "At the extremes:\n",
    "- single cluster (no clustering): the same SSE as the full dataset\n",
    "- k = m (every point is its own cluster): the within-cluster SSE is ***zero***, as each point equals its cluster mean\n",
    "\n",
    "In between, the sum of all cluster's SSE is going to ***decrease towards zero*** as ***k approaches m***.\n",
    "\n",
    "### 1.4 Choosing k\n",
    "\n",
    "There are some possibilities for choosing the number of clusters ***k***:\n",
    "- if you know beforehand into how many groups your data should be clustered, this is your ***k***\n",
    "- if you don't know it, you can use the ***elbow*** rule (the same principle used in ***PCA***) for the ***total sum of SSE***\n",
    "\n",
    "Sometimes the elbow rule suggests a number of clusters which may not make the most sense for your data - then you can use a ***lesser*** number of clusters to better explain your data."
   ]
  },
  {
   "cell_type": "markdown",
   "metadata": {},
   "source": [
    "## 2. More Resources\n",
    "\n",
    "[Iterative Initial Centroid Search via Sampling for k-Means Clustering](https://towardsdatascience.com/iterative-initial-centroid-search-via-sampling-for-k-means-clustering-2b505119ae37)\n",
    "\n",
    "[Unsupervised Learning with Python](https://towardsdatascience.com/unsupervised-learning-with-python-173c51dc7f03)\n",
    "\n",
    "[An Introduction to Clustering and different methods of clustering](https://www.analyticsvidhya.com/blog/2016/11/an-introduction-to-clustering-and-different-methods-of-clustering/)\n",
    "\n",
    "[Building Customer Clusters Using Unsupervised Machine Learning](https://medium.com/@samsonafolabi/building-customer-clusters-using-unsupervised-machine-learning-39d496977e1d)"
   ]
  },
  {
   "cell_type": "code",
   "execution_count": null,
   "metadata": {},
   "outputs": [],
   "source": []
  }
 ],
 "metadata": {
  "kernelspec": {
   "display_name": "Python 3 (ipykernel)",
   "language": "python",
   "name": "python3"
  },
  "language_info": {
   "codemirror_mode": {
    "name": "ipython",
    "version": 3
   },
   "file_extension": ".py",
   "mimetype": "text/x-python",
   "name": "python",
   "nbconvert_exporter": "python",
   "pygments_lexer": "ipython3",
   "version": "3.7.16"
  }
 },
 "nbformat": 4,
 "nbformat_minor": 4
}
