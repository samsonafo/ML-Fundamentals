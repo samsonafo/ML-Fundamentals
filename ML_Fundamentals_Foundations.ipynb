{
 "cells": [
  {
   "cell_type": "markdown",
   "id": "c767b66e",
   "metadata": {},
   "source": [
    "# 🧠 Machine Learning Fundamentals: Foundations"
   ]
  },
  {
   "cell_type": "markdown",
   "id": "502c9b80",
   "metadata": {},
   "source": [
    "\n",
    "## 🤖 What is Machine Learning?\n",
    "\n",
    "**Machine Learning (ML)** is a field of artificial intelligence (AI) that gives computers the ability to learn from data and make decisions or predictions without being explicitly programmed.\n",
    "\n",
    "📌 **Arthur Samuel (1959)** defined ML as: *\"A field of study that gives computers the ability to learn without being explicitly programmed.\"*\n"
   ]
  },
  {
   "cell_type": "markdown",
   "id": "44c58458",
   "metadata": {},
   "source": [
    "\n",
    "## 📚 Types of Machine Learning\n",
    "\n",
    "1. **Supervised Learning**: The model learns from labeled data.\n",
    "    - Examples: Linear Regression, Decision Trees, SVM\n",
    "    - 📌 Use Case: Predicting house prices\n",
    "\n",
    "2. **Unsupervised Learning**: The model finds patterns in unlabeled data.\n",
    "    - Examples: K-Means, PCA\n",
    "    - 📌 Use Case: Customer segmentation\n",
    "\n",
    "3. **Reinforcement Learning**: The model learns by interacting with an environment and receiving feedback (rewards/penalties).\n",
    "    - 📌 Use Case: Game AI, Robotics\n"
   ]
  },
  {
   "cell_type": "markdown",
   "id": "0b0319e5",
   "metadata": {},
   "source": [
    "\n",
    "## ⚙️ ML vs Traditional Programming\n",
    "\n",
    "| Traditional Programming | Machine Learning |\n",
    "|-------------------------|------------------|\n",
    "| Rules + Data = Output   | Data + Output = Rules |\n",
    "| Hard-coded logic        | Learns patterns from data |\n",
    "| Less flexible to change | More adaptive and scalable |\n",
    "\n",
    "> ML allows systems to adapt and improve over time with more data!\n"
   ]
  },
  {
   "cell_type": "markdown",
   "id": "073d3084",
   "metadata": {},
   "source": [
    "\n",
    "## 🧪 Example: Traditional Programming vs ML\n",
    "\n",
    "### Traditional Rule-based Code\n",
    "```python\n",
    "def classify_email(email_text):\n",
    "    if \"buy now\" in email_text or \"free\" in email_text:\n",
    "        return \"Spam\"\n",
    "    else:\n",
    "        return \"Not Spam\"\n",
    "```\n",
    "\n",
    "### ML-style (Conceptual)\n",
    "- Feed thousands of emails labeled as \"Spam\" or \"Not Spam\"\n",
    "- Model learns to classify based on word patterns\n"
   ]
  },
  {
   "cell_type": "markdown",
   "id": "2e38cc1a",
   "metadata": {},
   "source": [
    "\n",
    "## 🖼️ Conceptual Image of ML Process\n",
    "\n",
    "![ML Workflow](./img/ml_image.png)\n"
   ]
  },
  {
   "cell_type": "code",
   "execution_count": null,
   "id": "f79cdbf2-8661-41da-9a32-d038a32509f7",
   "metadata": {},
   "outputs": [],
   "source": []
  }
 ],
 "metadata": {
  "kernelspec": {
   "display_name": "Python 3 (ipykernel)",
   "language": "python",
   "name": "python3"
  },
  "language_info": {
   "codemirror_mode": {
    "name": "ipython",
    "version": 3
   },
   "file_extension": ".py",
   "mimetype": "text/x-python",
   "name": "python",
   "nbconvert_exporter": "python",
   "pygments_lexer": "ipython3",
   "version": "3.13.5"
  }
 },
 "nbformat": 4,
 "nbformat_minor": 5
}
