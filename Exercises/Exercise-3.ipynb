{
 "cells": [
  {
   "cell_type": "markdown",
   "id": "21a978bc-986b-46dc-b958-c5a2c4de2fd5",
   "metadata": {},
   "source": [
    "### Salary Prediction Classification\n",
    "\n",
    "Purpose: Classification on Salary whether less than 50K or greater than 50K"
   ]
  },
  {
   "cell_type": "code",
   "execution_count": 104,
   "id": "8d91e24f-13a2-4dd8-9438-d13c216b92c6",
   "metadata": {},
   "outputs": [],
   "source": [
    "#import libraries\n",
    "\n",
    "import pandas as pd\n",
    "import numpy as np\n",
    "import seaborn as sns\n",
    "import matplotlib.pyplot as plt\n",
    "import category_encoders as ce\n",
    "\n",
    "from sklearn.model_selection import train_test_split\n",
    "from sklearn.preprocessing import MinMaxScaler\n",
    "from sklearn.compose import ColumnTransformer\n",
    "from sklearn.pipeline import Pipeline\n",
    "from sklearn.impute import SimpleImputer\n",
    "from sklearn.linear_model import LogisticRegression\n",
    "from sklearn.metrics import f1_score\n",
    "from sklearn.model_selection import cross_val_score"
   ]
  },
  {
   "cell_type": "code",
   "execution_count": 198,
   "id": "fdfca02f-0dd5-444c-a023-c49069f4dc3e",
   "metadata": {},
   "outputs": [
    {
     "data": {
      "text/html": [
       "<div>\n",
       "<style scoped>\n",
       "    .dataframe tbody tr th:only-of-type {\n",
       "        vertical-align: middle;\n",
       "    }\n",
       "\n",
       "    .dataframe tbody tr th {\n",
       "        vertical-align: top;\n",
       "    }\n",
       "\n",
       "    .dataframe thead th {\n",
       "        text-align: right;\n",
       "    }\n",
       "</style>\n",
       "<table border=\"1\" class=\"dataframe\">\n",
       "  <thead>\n",
       "    <tr style=\"text-align: right;\">\n",
       "      <th></th>\n",
       "      <th>age</th>\n",
       "      <th>workclass</th>\n",
       "      <th>fnlwgt</th>\n",
       "      <th>education</th>\n",
       "      <th>education-num</th>\n",
       "      <th>marital-status</th>\n",
       "      <th>occupation</th>\n",
       "      <th>relationship</th>\n",
       "      <th>race</th>\n",
       "      <th>sex</th>\n",
       "      <th>capital-gain</th>\n",
       "      <th>capital-loss</th>\n",
       "      <th>hours-per-week</th>\n",
       "      <th>native-country</th>\n",
       "      <th>salary</th>\n",
       "    </tr>\n",
       "  </thead>\n",
       "  <tbody>\n",
       "    <tr>\n",
       "      <th>0</th>\n",
       "      <td>39</td>\n",
       "      <td>State-gov</td>\n",
       "      <td>77516</td>\n",
       "      <td>Bachelors</td>\n",
       "      <td>13</td>\n",
       "      <td>Never-married</td>\n",
       "      <td>Adm-clerical</td>\n",
       "      <td>Not-in-family</td>\n",
       "      <td>White</td>\n",
       "      <td>Male</td>\n",
       "      <td>2174</td>\n",
       "      <td>0</td>\n",
       "      <td>40</td>\n",
       "      <td>United-States</td>\n",
       "      <td>&lt;=50K</td>\n",
       "    </tr>\n",
       "    <tr>\n",
       "      <th>1</th>\n",
       "      <td>50</td>\n",
       "      <td>Self-emp-not-inc</td>\n",
       "      <td>83311</td>\n",
       "      <td>Bachelors</td>\n",
       "      <td>13</td>\n",
       "      <td>Married-civ-spouse</td>\n",
       "      <td>Exec-managerial</td>\n",
       "      <td>Husband</td>\n",
       "      <td>White</td>\n",
       "      <td>Male</td>\n",
       "      <td>0</td>\n",
       "      <td>0</td>\n",
       "      <td>13</td>\n",
       "      <td>United-States</td>\n",
       "      <td>&lt;=50K</td>\n",
       "    </tr>\n",
       "    <tr>\n",
       "      <th>2</th>\n",
       "      <td>38</td>\n",
       "      <td>Private</td>\n",
       "      <td>215646</td>\n",
       "      <td>HS-grad</td>\n",
       "      <td>9</td>\n",
       "      <td>Divorced</td>\n",
       "      <td>Handlers-cleaners</td>\n",
       "      <td>Not-in-family</td>\n",
       "      <td>White</td>\n",
       "      <td>Male</td>\n",
       "      <td>0</td>\n",
       "      <td>0</td>\n",
       "      <td>40</td>\n",
       "      <td>United-States</td>\n",
       "      <td>&lt;=50K</td>\n",
       "    </tr>\n",
       "    <tr>\n",
       "      <th>3</th>\n",
       "      <td>53</td>\n",
       "      <td>Private</td>\n",
       "      <td>234721</td>\n",
       "      <td>11th</td>\n",
       "      <td>7</td>\n",
       "      <td>Married-civ-spouse</td>\n",
       "      <td>Handlers-cleaners</td>\n",
       "      <td>Husband</td>\n",
       "      <td>Black</td>\n",
       "      <td>Male</td>\n",
       "      <td>0</td>\n",
       "      <td>0</td>\n",
       "      <td>40</td>\n",
       "      <td>United-States</td>\n",
       "      <td>&lt;=50K</td>\n",
       "    </tr>\n",
       "    <tr>\n",
       "      <th>4</th>\n",
       "      <td>28</td>\n",
       "      <td>Private</td>\n",
       "      <td>338409</td>\n",
       "      <td>Bachelors</td>\n",
       "      <td>13</td>\n",
       "      <td>Married-civ-spouse</td>\n",
       "      <td>Prof-specialty</td>\n",
       "      <td>Wife</td>\n",
       "      <td>Black</td>\n",
       "      <td>Female</td>\n",
       "      <td>0</td>\n",
       "      <td>0</td>\n",
       "      <td>40</td>\n",
       "      <td>Cuba</td>\n",
       "      <td>&lt;=50K</td>\n",
       "    </tr>\n",
       "  </tbody>\n",
       "</table>\n",
       "</div>"
      ],
      "text/plain": [
       "   age          workclass  fnlwgt   education  education-num  \\\n",
       "0   39          State-gov   77516   Bachelors             13   \n",
       "1   50   Self-emp-not-inc   83311   Bachelors             13   \n",
       "2   38            Private  215646     HS-grad              9   \n",
       "3   53            Private  234721        11th              7   \n",
       "4   28            Private  338409   Bachelors             13   \n",
       "\n",
       "        marital-status          occupation    relationship    race      sex  \\\n",
       "0        Never-married        Adm-clerical   Not-in-family   White     Male   \n",
       "1   Married-civ-spouse     Exec-managerial         Husband   White     Male   \n",
       "2             Divorced   Handlers-cleaners   Not-in-family   White     Male   \n",
       "3   Married-civ-spouse   Handlers-cleaners         Husband   Black     Male   \n",
       "4   Married-civ-spouse      Prof-specialty            Wife   Black   Female   \n",
       "\n",
       "   capital-gain  capital-loss  hours-per-week  native-country  salary  \n",
       "0          2174             0              40   United-States   <=50K  \n",
       "1             0             0              13   United-States   <=50K  \n",
       "2             0             0              40   United-States   <=50K  \n",
       "3             0             0              40   United-States   <=50K  \n",
       "4             0             0              40            Cuba   <=50K  "
      ]
     },
     "execution_count": 198,
     "metadata": {},
     "output_type": "execute_result"
    }
   ],
   "source": [
    "#import data\n",
    "\n",
    "df = pd.read_csv('../data/salary.csv')\n",
    "df.head()"
   ]
  },
  {
   "cell_type": "markdown",
   "id": "cbbff89c-2622-45cf-a203-2b918b627fc9",
   "metadata": {},
   "source": [
    "#### Some Descriptives\n",
    "\n",
    "- Printng DataFrame Size\n",
    "- checking for null values\n",
    "- checking for cardinality in my categorical columns\n",
    "- checking for outliers"
   ]
  },
  {
   "cell_type": "code",
   "execution_count": 6,
   "id": "264e187d-6c9d-4989-a5e8-d0c0d5cd5d56",
   "metadata": {},
   "outputs": [
    {
     "name": "stdout",
     "output_type": "stream",
     "text": [
      "The dataset has 32561 rows and 15 columns\n"
     ]
    }
   ],
   "source": [
    "print(f'The dataset has {df.shape[0]} rows and {df.shape[1]} columns')"
   ]
  },
  {
   "cell_type": "code",
   "execution_count": 5,
   "id": "0346df14-6460-4175-affe-9adf87d0546f",
   "metadata": {},
   "outputs": [
    {
     "data": {
      "text/html": [
       "<div>\n",
       "<style scoped>\n",
       "    .dataframe tbody tr th:only-of-type {\n",
       "        vertical-align: middle;\n",
       "    }\n",
       "\n",
       "    .dataframe tbody tr th {\n",
       "        vertical-align: top;\n",
       "    }\n",
       "\n",
       "    .dataframe thead th {\n",
       "        text-align: right;\n",
       "    }\n",
       "</style>\n",
       "<table border=\"1\" class=\"dataframe\">\n",
       "  <thead>\n",
       "    <tr style=\"text-align: right;\">\n",
       "      <th></th>\n",
       "      <th>age</th>\n",
       "      <th>fnlwgt</th>\n",
       "      <th>education-num</th>\n",
       "      <th>capital-gain</th>\n",
       "      <th>capital-loss</th>\n",
       "      <th>hours-per-week</th>\n",
       "    </tr>\n",
       "  </thead>\n",
       "  <tbody>\n",
       "    <tr>\n",
       "      <th>count</th>\n",
       "      <td>32561.000000</td>\n",
       "      <td>3.256100e+04</td>\n",
       "      <td>32561.000000</td>\n",
       "      <td>32561.000000</td>\n",
       "      <td>32561.000000</td>\n",
       "      <td>32561.000000</td>\n",
       "    </tr>\n",
       "    <tr>\n",
       "      <th>mean</th>\n",
       "      <td>38.581647</td>\n",
       "      <td>1.897784e+05</td>\n",
       "      <td>10.080679</td>\n",
       "      <td>1077.648844</td>\n",
       "      <td>87.303830</td>\n",
       "      <td>40.437456</td>\n",
       "    </tr>\n",
       "    <tr>\n",
       "      <th>std</th>\n",
       "      <td>13.640433</td>\n",
       "      <td>1.055500e+05</td>\n",
       "      <td>2.572720</td>\n",
       "      <td>7385.292085</td>\n",
       "      <td>402.960219</td>\n",
       "      <td>12.347429</td>\n",
       "    </tr>\n",
       "    <tr>\n",
       "      <th>min</th>\n",
       "      <td>17.000000</td>\n",
       "      <td>1.228500e+04</td>\n",
       "      <td>1.000000</td>\n",
       "      <td>0.000000</td>\n",
       "      <td>0.000000</td>\n",
       "      <td>1.000000</td>\n",
       "    </tr>\n",
       "    <tr>\n",
       "      <th>25%</th>\n",
       "      <td>28.000000</td>\n",
       "      <td>1.178270e+05</td>\n",
       "      <td>9.000000</td>\n",
       "      <td>0.000000</td>\n",
       "      <td>0.000000</td>\n",
       "      <td>40.000000</td>\n",
       "    </tr>\n",
       "    <tr>\n",
       "      <th>50%</th>\n",
       "      <td>37.000000</td>\n",
       "      <td>1.783560e+05</td>\n",
       "      <td>10.000000</td>\n",
       "      <td>0.000000</td>\n",
       "      <td>0.000000</td>\n",
       "      <td>40.000000</td>\n",
       "    </tr>\n",
       "    <tr>\n",
       "      <th>75%</th>\n",
       "      <td>48.000000</td>\n",
       "      <td>2.370510e+05</td>\n",
       "      <td>12.000000</td>\n",
       "      <td>0.000000</td>\n",
       "      <td>0.000000</td>\n",
       "      <td>45.000000</td>\n",
       "    </tr>\n",
       "    <tr>\n",
       "      <th>max</th>\n",
       "      <td>90.000000</td>\n",
       "      <td>1.484705e+06</td>\n",
       "      <td>16.000000</td>\n",
       "      <td>99999.000000</td>\n",
       "      <td>4356.000000</td>\n",
       "      <td>99.000000</td>\n",
       "    </tr>\n",
       "  </tbody>\n",
       "</table>\n",
       "</div>"
      ],
      "text/plain": [
       "                age        fnlwgt  education-num  capital-gain  capital-loss  \\\n",
       "count  32561.000000  3.256100e+04   32561.000000  32561.000000  32561.000000   \n",
       "mean      38.581647  1.897784e+05      10.080679   1077.648844     87.303830   \n",
       "std       13.640433  1.055500e+05       2.572720   7385.292085    402.960219   \n",
       "min       17.000000  1.228500e+04       1.000000      0.000000      0.000000   \n",
       "25%       28.000000  1.178270e+05       9.000000      0.000000      0.000000   \n",
       "50%       37.000000  1.783560e+05      10.000000      0.000000      0.000000   \n",
       "75%       48.000000  2.370510e+05      12.000000      0.000000      0.000000   \n",
       "max       90.000000  1.484705e+06      16.000000  99999.000000   4356.000000   \n",
       "\n",
       "       hours-per-week  \n",
       "count    32561.000000  \n",
       "mean        40.437456  \n",
       "std         12.347429  \n",
       "min          1.000000  \n",
       "25%         40.000000  \n",
       "50%         40.000000  \n",
       "75%         45.000000  \n",
       "max         99.000000  "
      ]
     },
     "execution_count": 5,
     "metadata": {},
     "output_type": "execute_result"
    }
   ],
   "source": [
    "df.describe()"
   ]
  },
  {
   "cell_type": "code",
   "execution_count": 7,
   "id": "739191ab-5cec-4f7a-8cbc-d45299673eb8",
   "metadata": {},
   "outputs": [
    {
     "data": {
      "text/plain": [
       " <=50K    24720\n",
       " >50K      7841\n",
       "Name: salary, dtype: int64"
      ]
     },
     "execution_count": 7,
     "metadata": {},
     "output_type": "execute_result"
    }
   ],
   "source": [
    "df.salary.value_counts()  #checking target distribution"
   ]
  },
  {
   "cell_type": "code",
   "execution_count": 10,
   "id": "d4148acc-e2da-490c-ab61-f6c9e83d016f",
   "metadata": {},
   "outputs": [
    {
     "data": {
      "text/plain": [
       "age               0\n",
       "workclass         0\n",
       "fnlwgt            0\n",
       "education         0\n",
       "education-num     0\n",
       "marital-status    0\n",
       "occupation        0\n",
       "relationship      0\n",
       "race              0\n",
       "sex               0\n",
       "capital-gain      0\n",
       "capital-loss      0\n",
       "hours-per-week    0\n",
       "native-country    0\n",
       "salary            0\n",
       "dtype: int64"
      ]
     },
     "execution_count": 10,
     "metadata": {},
     "output_type": "execute_result"
    }
   ],
   "source": [
    "df.isnull().sum()  #checking for null values"
   ]
  },
  {
   "cell_type": "code",
   "execution_count": 18,
   "id": "38158f47-e49b-4f12-b7b9-8beb9bdbf859",
   "metadata": {},
   "outputs": [
    {
     "data": {
      "text/plain": [
       "age                int64\n",
       "workclass         object\n",
       "fnlwgt             int64\n",
       "education         object\n",
       "education-num      int64\n",
       "marital-status    object\n",
       "occupation        object\n",
       "relationship      object\n",
       "race              object\n",
       "sex               object\n",
       "capital-gain       int64\n",
       "capital-loss       int64\n",
       "hours-per-week     int64\n",
       "native-country    object\n",
       "salary            object\n",
       "dtype: object"
      ]
     },
     "execution_count": 18,
     "metadata": {},
     "output_type": "execute_result"
    }
   ],
   "source": [
    "df.dtypes  #checking for column types"
   ]
  },
  {
   "cell_type": "code",
   "execution_count": 187,
   "id": "42c675e1-7af2-4764-8700-717906674a57",
   "metadata": {},
   "outputs": [
    {
     "name": "stdout",
     "output_type": "stream",
     "text": [
      " Private             22696\n",
      " Self-emp-not-inc     2541\n",
      " Local-gov            2093\n",
      " ?                    1836\n",
      " State-gov            1298\n",
      " Self-emp-inc         1116\n",
      " Federal-gov           960\n",
      " Without-pay            14\n",
      " Never-worked            7\n",
      "Name: workclass, dtype: int64\n",
      "workclass\n",
      " HS-grad         10501\n",
      " Some-college     7291\n",
      " Bachelors        5355\n",
      " Masters          1723\n",
      " Assoc-voc        1382\n",
      " 11th             1175\n",
      " Assoc-acdm       1067\n",
      " 10th              933\n",
      " 7th-8th           646\n",
      " Prof-school       576\n",
      " 9th               514\n",
      " 12th              433\n",
      " Doctorate         413\n",
      " 5th-6th           333\n",
      " 1st-4th           168\n",
      " Preschool          51\n",
      "Name: education, dtype: int64\n",
      "education\n",
      " Married-civ-spouse       14976\n",
      " Never-married            10683\n",
      " Divorced                  4443\n",
      " Separated                 1025\n",
      " Widowed                    993\n",
      " Married-spouse-absent      418\n",
      " Married-AF-spouse           23\n",
      "Name: marital-status, dtype: int64\n",
      "marital-status\n",
      " Prof-specialty       4140\n",
      " Craft-repair         4099\n",
      " Exec-managerial      4066\n",
      " Adm-clerical         3770\n",
      " Sales                3650\n",
      " Other-service        3295\n",
      " Machine-op-inspct    2002\n",
      " ?                    1843\n",
      " Transport-moving     1597\n",
      " Handlers-cleaners    1370\n",
      " Farming-fishing       994\n",
      " Tech-support          928\n",
      " Protective-serv       649\n",
      " Priv-house-serv       149\n",
      " Armed-Forces            9\n",
      "Name: occupation, dtype: int64\n",
      "occupation\n",
      " Husband           13193\n",
      " Not-in-family      8305\n",
      " Own-child          5068\n",
      " Unmarried          3446\n",
      " Wife               1568\n",
      " Other-relative      981\n",
      "Name: relationship, dtype: int64\n",
      "relationship\n",
      " White                 27816\n",
      " Black                  3124\n",
      " Asian-Pac-Islander     1039\n",
      " Amer-Indian-Eskimo      311\n",
      " Other                   271\n",
      "Name: race, dtype: int64\n",
      "race\n",
      " Male      21790\n",
      " Female    10771\n",
      "Name: sex, dtype: int64\n",
      "sex\n",
      " United-States                 29170\n",
      " Mexico                          643\n",
      " ?                               583\n",
      " Philippines                     198\n",
      " Germany                         137\n",
      " Canada                          121\n",
      " Puerto-Rico                     114\n",
      " El-Salvador                     106\n",
      " India                           100\n",
      " Cuba                             95\n",
      " England                          90\n",
      " Jamaica                          81\n",
      " South                            80\n",
      " China                            75\n",
      " Italy                            73\n",
      " Dominican-Republic               70\n",
      " Vietnam                          67\n",
      " Guatemala                        64\n",
      " Japan                            62\n",
      " Poland                           60\n",
      " Columbia                         59\n",
      " Taiwan                           51\n",
      " Haiti                            44\n",
      " Iran                             43\n",
      " Portugal                         37\n",
      " Nicaragua                        34\n",
      " Peru                             31\n",
      " France                           29\n",
      " Greece                           29\n",
      " Ecuador                          28\n",
      " Ireland                          24\n",
      " Hong                             20\n",
      " Cambodia                         19\n",
      " Trinadad&Tobago                  19\n",
      " Laos                             18\n",
      " Thailand                         18\n",
      " Yugoslavia                       16\n",
      " Outlying-US(Guam-USVI-etc)       14\n",
      " Honduras                         13\n",
      " Hungary                          13\n",
      " Scotland                         12\n",
      " Holand-Netherlands                1\n",
      "Name: native-country, dtype: int64\n",
      "native-country\n",
      " <=50K    24720\n",
      " >50K      7841\n",
      "Name: salary, dtype: int64\n",
      "salary\n"
     ]
    }
   ],
   "source": [
    "## observations \n",
    "## ==> the target column is imbalanced. The <=50k category is 3 times the >50k category\n",
    "## ==> no null values detected with isnull but are there other null representations? --- (yes, there are!)\n",
    "## ==> For my quick and dirty step, I will use all numerical columns and education, relationship, race only.\n",
    "## ==> capital-gains and capital-loss and hours per week all have outliers ---> obvious from the max value printed\n",
    "## ==> capital gains and capital loss all have huge zeros! up until the 75th percentile, so will remove them\n",
    "\n",
    "\n",
    "for cols in df.select_dtypes(include=['object']):\n",
    "    print(df[cols].value_counts())\n",
    "    print(cols)"
   ]
  },
  {
   "cell_type": "code",
   "execution_count": 59,
   "id": "0532988e-61c4-425d-a8ef-614a7a0e4d79",
   "metadata": {},
   "outputs": [],
   "source": [
    "cat_columns = ['education','relationship','race','workclass','occupation','native country']\n",
    "num_columns = ['age','fnlwgt','education-num','hours-per-week']  #select needed numerical columns"
   ]
  },
  {
   "cell_type": "markdown",
   "id": "673344a4-9f7c-41b6-a237-4f090f853c0d",
   "metadata": {},
   "source": [
    "#### iterate on data\n",
    "- remove outliers in hours per week - beyond the 95th percentile\n",
    "- deal with missing values in workclass, occupation and native country add them in "
   ]
  },
  {
   "cell_type": "code",
   "execution_count": 182,
   "id": "1ce7e6e0-c10b-4069-8f32-0c621cef4ff4",
   "metadata": {},
   "outputs": [
    {
     "data": {
      "text/plain": [
       "60.0"
      ]
     },
     "execution_count": 182,
     "metadata": {},
     "output_type": "execute_result"
    }
   ],
   "source": [
    "#  drop all rows less than this number\n",
    "pct = np.percentile(df.loc[:, 'hours-per-week'].fillna(np.mean(df.loc[:, 'hours-per-week'])), 95)\n",
    "pct"
   ]
  },
  {
   "cell_type": "code",
   "execution_count": 184,
   "id": "1bd0402d-ba6d-4a82-b872-073318a10afb",
   "metadata": {},
   "outputs": [],
   "source": [
    "df['hours-per-week'] = df['hours-per-week'].clip(upper = pct)"
   ]
  },
  {
   "cell_type": "code",
   "execution_count": 190,
   "id": "cfa40e24-791b-4ade-82ab-5c202454be9f",
   "metadata": {},
   "outputs": [],
   "source": [
    "#replacing missing values\n",
    "\n",
    "df.loc[df['workclass'] == '?', 'workclass'] = 'No workclass'\n",
    "df.loc[df['native-country'] == '?', 'native-country'] = 'No native-country'\n",
    "df.loc[df['occupation'] == '?', 'occupation'] = 'No occupation'"
   ]
  },
  {
   "cell_type": "markdown",
   "id": "a52fb722-30c6-48c8-9c5d-a32bf7fca0a1",
   "metadata": {},
   "source": [
    "###  Visualizations\n",
    "\n",
    "- trying to understand the data better\n",
    "- looking to understand the scales in the data"
   ]
  },
  {
   "cell_type": "code",
   "execution_count": 66,
   "id": "367717a1-d995-488c-9e37-60da5b60836b",
   "metadata": {},
   "outputs": [
    {
     "data": {
      "image/png": "[encoded data removed]",
      "text/plain": [
       "<Figure size 1000x1000 with 4 Axes>"
      ]
     },
     "metadata": {},
     "output_type": "display_data"
    }
   ],
   "source": [
    "hist_distr = df[num_columns].hist(figsize = (10, 10))"
   ]
  },
  {
   "cell_type": "code",
   "execution_count": 67,
   "id": "0a1618c5-f812-431b-a489-1dea49063d1f",
   "metadata": {},
   "outputs": [],
   "source": [
    "#observations\n",
    "## -- I want to scale the hours per week, and age"
   ]
  },
  {
   "cell_type": "code",
   "execution_count": 62,
   "id": "17670dc0-d67c-4e10-9874-37dc1dc47f96",
   "metadata": {},
   "outputs": [
    {
     "data": {
      "image/png": "[encoded data removed]",
      "text/plain": [
       "<Figure size 2500x1200 with 2 Axes>"
      ]
     },
     "metadata": {},
     "output_type": "display_data"
    }
   ],
   "source": [
    "#check for correlation matrix\n",
    "\n",
    "corrmat = df[cat_columns + num_columns].corr()   #get correlations table\n",
    "top_corr_features = corrmat.index\n",
    "plt.figure(figsize=(25,12))\n",
    "g=sns.heatmap(df[cat_columns + num_columns].corr(),annot=True,cmap=\"RdYlGn\")   #plot heat map"
   ]
  },
  {
   "cell_type": "markdown",
   "id": "9f81757f-7d9b-42da-9e2c-ad55f918c04e",
   "metadata": {},
   "source": [
    "### Model Development"
   ]
  },
  {
   "cell_type": "code",
   "execution_count": 147,
   "id": "323fcf12-a834-42d6-98a8-ad448898516d",
   "metadata": {},
   "outputs": [],
   "source": [
    "#assign X and y\n",
    "\n",
    "X = df[cat_columns + num_columns]\n",
    "y = df.salary\n",
    "\n",
    "\n",
    "X_train, X_test, y_train, y_test = train_test_split(X, y, test_size=0.2, random_state=42)"
   ]
  },
  {
   "cell_type": "code",
   "execution_count": 148,
   "id": "9576973c-13fd-4a4f-a34a-0cd2fd174ea0",
   "metadata": {},
   "outputs": [
    {
     "data": {
      "text/plain": [
       "LabelEncoder()"
      ]
     },
     "execution_count": 148,
     "metadata": {},
     "output_type": "execute_result"
    }
   ],
   "source": [
    "from sklearn.preprocessing import LabelEncoder\n",
    "\n",
    "le_y = LabelEncoder()\n",
    "le_y.fit(y_train)"
   ]
  },
  {
   "cell_type": "code",
   "execution_count": 149,
   "id": "661fd0fd-3467-4222-910c-96393ac678c2",
   "metadata": {},
   "outputs": [],
   "source": [
    "#encode the target column\n",
    "y_train = le_y.transform(y_train)\n",
    "y_test = le_y.transform(y_test)"
   ]
  },
  {
   "cell_type": "code",
   "execution_count": 150,
   "id": "49686577-232a-407c-b709-355fff28d97b",
   "metadata": {},
   "outputs": [
    {
     "data": {
      "text/plain": [
       "array([' <=50K', ' >50K'], dtype=object)"
      ]
     },
     "execution_count": 150,
     "metadata": {},
     "output_type": "execute_result"
    }
   ],
   "source": [
    "#test inverse transform\n",
    "le_y.inverse_transform([0,1])"
   ]
  },
  {
   "cell_type": "markdown",
   "id": "d8202153-736e-4d43-aea2-75f20b31f013",
   "metadata": {},
   "source": [
    "#### Prepocessing\n",
    "- No missing values in num_colums so no need for the simple imputer\n",
    "- encodings ---> education has 16 Categories, relationship has 6 categories and race has 5 categories\n",
    "- First I use the ordinal encoder for them all"
   ]
  },
  {
   "cell_type": "code",
   "execution_count": 216,
   "id": "06aa6724-9b5a-4b4e-8e0b-5b710fa49037",
   "metadata": {},
   "outputs": [],
   "source": [
    "#instantiate the Label Encoder\n",
    "le = ce.OrdinalEncoder(cols=['education', 'relationship', 'race'])\n",
    "\n",
    "\n",
    "#encode columns with the \n",
    "ce_te = ce.TargetEncoder(cols=['workclass','occupation','native-country'])"
   ]
  },
  {
   "cell_type": "code",
   "execution_count": 213,
   "id": "90f33c40-06d6-4549-a144-19b91d02b975",
   "metadata": {},
   "outputs": [],
   "source": [
    "#create numerical transformer\n",
    "numerical_transformer = ColumnTransformer([\n",
    "                            ('scaler', MinMaxScaler(), ['age','hours-per-week'])\n",
    "                                            ], remainder='passthrough')\n",
    "\n",
    "#create categorical transformer\n",
    "categorical_transformer = Pipeline(steps=[('ord_encoder',le)\n",
    "                                        ])\n",
    "\n",
    "\n",
    "# Bundle preprocessing for numerical and categorical data\n",
    "preprocessor = ColumnTransformer(\n",
    "    transformers=[\n",
    "        ('num', numerical_transformer, num_columns),\n",
    "        ('cat', categorical_transformer, cat_columns)\n",
    "    ])"
   ]
  },
  {
   "cell_type": "markdown",
   "id": "b9c5be0b-df07-49a6-9a0c-6e81dc8979d1",
   "metadata": {},
   "source": [
    "##### Logistic Regression"
   ]
  },
  {
   "cell_type": "code",
   "execution_count": 214,
   "id": "5a024eee-b6a7-4fb5-959f-b2b2e3502014",
   "metadata": {},
   "outputs": [],
   "source": [
    "lr = LogisticRegression()"
   ]
  },
  {
   "cell_type": "code",
   "execution_count": 215,
   "id": "deabf9e9-88f1-45ab-bc4a-fe7c55c55df8",
   "metadata": {},
   "outputs": [],
   "source": [
    "#model pipeline\n",
    "lr_pipe = Pipeline(steps=[('preprocessor', preprocessor),\n",
    "                            ('linear_model', lr)\n",
    "                             ])\n",
    "\n",
    "# Preprocessing of training data, fit model \n",
    "lr_pipe.fit(X_train, y_train)\n",
    "\n",
    "# Preprocessing of validation data, get predictions\n",
    "lr_preds = lr_pipe.predict(X_test)"
   ]
  },
  {
   "cell_type": "code",
   "execution_count": 208,
   "id": "83cc0e14-3c2b-4006-adc1-560534969b1c",
   "metadata": {},
   "outputs": [
    {
     "name": "stdout",
     "output_type": "stream",
     "text": [
      "F1 Score for the logistic regression Model is 0.4314273243125273\n"
     ]
    }
   ],
   "source": [
    "# Evaluate the model\n",
    "score = f1_score(y_test, lr_preds, average='macro')\n",
    "print('F1 Score for the logistic regression Model is', score)"
   ]
  },
  {
   "cell_type": "markdown",
   "id": "28fc1c93-8236-4bab-9d2d-8ffc6e9fe3ca",
   "metadata": {},
   "source": [
    "##### Random Forest"
   ]
  },
  {
   "cell_type": "code",
   "execution_count": 143,
   "id": "bf8463f1-66a8-4889-9fc9-42ab855d0529",
   "metadata": {},
   "outputs": [],
   "source": [
    "from sklearn.ensemble import RandomForestClassifier\n",
    "\n",
    "rf = RandomForestClassifier(max_depth=5, random_state=42)"
   ]
  },
  {
   "cell_type": "code",
   "execution_count": 144,
   "id": "f90dbe00-6e7e-42cd-9f43-643e8464cf15",
   "metadata": {},
   "outputs": [],
   "source": [
    "#model pipeline\n",
    "rf_pipe = Pipeline(steps=[('preprocessor', preprocessor),\n",
    "                            ('random forest', rf)\n",
    "                             ])\n",
    "\n",
    "# Preprocessing of training data, fit model \n",
    "rf_pipe.fit(X_train, y_train)\n",
    "\n",
    "# Preprocessing of validation data, get predictions\n",
    "rf_preds = rf_pipe.predict(X_test)"
   ]
  },
  {
   "cell_type": "code",
   "execution_count": 145,
   "id": "45167568-c46a-44d5-af06-cb7270f897ba",
   "metadata": {},
   "outputs": [
    {
     "name": "stdout",
     "output_type": "stream",
     "text": [
      "F1 Score for the Random Forest Model is 0.6941462110829753\n"
     ]
    }
   ],
   "source": [
    "# Evaluate the model\n",
    "score = f1_score(y_test, rf_preds, average='macro')\n",
    "print('F1 Score for the Random Forest Model is', score)"
   ]
  },
  {
   "cell_type": "markdown",
   "id": "7683c41f-2b9c-4580-9cb3-8f41d6a8182b",
   "metadata": {},
   "source": [
    "#### Cross Validation"
   ]
  },
  {
   "cell_type": "code",
   "execution_count": 217,
   "id": "eb7448c8-7b24-4d75-8b0e-b69d64cb6233",
   "metadata": {},
   "outputs": [
    {
     "name": "stdout",
     "output_type": "stream",
     "text": [
      "F1 Score from Cross Validation [0.48407643 0.51501057 0.51286377 0.52793995 0.51406972]\n"
     ]
    }
   ],
   "source": [
    "#test on cross validation\n",
    "y_ = le_y.transform(y)\n",
    "crv_scores = cross_val_score(rf_pipe, X, y_,\n",
    "                              cv=5,\n",
    "                              scoring='f1')\n",
    "\n",
    "print(\"F1 Score from Cross Validation\", crv_scores)"
   ]
  },
  {
   "cell_type": "markdown",
   "id": "13ffec8c-d0d8-4eff-951c-82094e0e3a43",
   "metadata": {},
   "source": [
    "#### Iterate on Model"
   ]
  },
  {
   "cell_type": "markdown",
   "id": "f6897151-1005-4794-b196-a3696553a6b8",
   "metadata": {},
   "source": [
    "optimizing on the Model we will perform a grid search cv on the hyper-parameter space\n",
    "- max_depth --> (3,5)\n",
    "- n_estimators --> (100,300)\n",
    "- cv only 3 due to run time"
   ]
  },
  {
   "cell_type": "code",
   "execution_count": 158,
   "id": "23ad9da8-f2bc-4791-aec8-cc213d8e561c",
   "metadata": {},
   "outputs": [],
   "source": [
    "parameters = {'n_estimators'  : [100, 200, 300],\n",
    "'max_depth'  : [3, 4, 5]}"
   ]
  },
  {
   "cell_type": "code",
   "execution_count": 176,
   "id": "0e8680ad-04c2-492c-b4c3-81c36efc0358",
   "metadata": {},
   "outputs": [
    {
     "data": {
      "text/plain": [
       "Pipeline(steps=[('columntransformer',\n",
       "                 ColumnTransformer(transformers=[('num',\n",
       "                                                  ColumnTransformer(remainder='passthrough',\n",
       "                                                                    transformers=[('scaler',\n",
       "                                                                                   MinMaxScaler(),\n",
       "                                                                                   ['age',\n",
       "                                                                                    'hours-per-week'])]),\n",
       "                                                  ['age', 'fnlwgt',\n",
       "                                                   'education-num',\n",
       "                                                   'hours-per-week']),\n",
       "                                                 ('cat',\n",
       "                                                  Pipeline(steps=[('ord_encoder',\n",
       "                                                                   OrdinalEncoder(cols=['education',\n",
       "                                                                                        'relationship',\n",
       "                                                                                        'race']))]),\n",
       "                                                  ['education', 'relationship',\n",
       "                                                   'race'])])),\n",
       "                ('gridsearchcv',\n",
       "                 GridSearchCV(cv=3, estimator=RandomForestClassifier(),\n",
       "                              param_grid={'max_depth': [3, 4, 5],\n",
       "                                          'n_estimators': [100, 200, 300]},\n",
       "                              scoring='f1'))])"
      ]
     },
     "execution_count": 176,
     "metadata": {},
     "output_type": "execute_result"
    }
   ],
   "source": [
    "from sklearn.model_selection import GridSearchCV\n",
    "from sklearn.pipeline import make_pipeline\n",
    "\n",
    "cv_results_ = make_pipeline(preprocessor, \n",
    "                    GridSearchCV(RandomForestClassifier(),\n",
    "                                 param_grid=parameters,scoring='f1',cv=3))\n",
    "\n",
    "cv_results_.fit(X, y_)"
   ]
  },
  {
   "cell_type": "code",
   "execution_count": 177,
   "id": "dfe81883-203c-4cbd-b9a0-55aea28a9791",
   "metadata": {},
   "outputs": [
    {
     "data": {
      "text/plain": [
       "dict_keys(['mean_fit_time', 'std_fit_time', 'mean_score_time', 'std_score_time', 'param_max_depth', 'param_n_estimators', 'params', 'split0_test_score', 'split1_test_score', 'split2_test_score', 'mean_test_score', 'std_test_score', 'rank_test_score'])"
      ]
     },
     "execution_count": 177,
     "metadata": {},
     "output_type": "execute_result"
    }
   ],
   "source": [
    "cv_results_['gridsearchcv'].cv_results_.keys()"
   ]
  },
  {
   "cell_type": "code",
   "execution_count": 178,
   "id": "7d22e1dd-c69c-4ec3-a20d-ca72044b67ee",
   "metadata": {},
   "outputs": [
    {
     "data": {
      "text/plain": [
       "[{'max_depth': 3, 'n_estimators': 100},\n",
       " {'max_depth': 3, 'n_estimators': 200},\n",
       " {'max_depth': 3, 'n_estimators': 300},\n",
       " {'max_depth': 4, 'n_estimators': 100},\n",
       " {'max_depth': 4, 'n_estimators': 200},\n",
       " {'max_depth': 4, 'n_estimators': 300},\n",
       " {'max_depth': 5, 'n_estimators': 100},\n",
       " {'max_depth': 5, 'n_estimators': 200},\n",
       " {'max_depth': 5, 'n_estimators': 300}]"
      ]
     },
     "execution_count": 178,
     "metadata": {},
     "output_type": "execute_result"
    }
   ],
   "source": [
    "cv_results_['gridsearchcv'].cv_results_['params']"
   ]
  },
  {
   "cell_type": "code",
   "execution_count": 179,
   "id": "45726424-149e-4416-ac04-de1f26f0c90a",
   "metadata": {},
   "outputs": [
    {
     "data": {
      "text/plain": [
       "array([0.4212204 , 0.33683862, 0.33717144, 0.50483956, 0.5079072 ,\n",
       "       0.50877488, 0.51405558, 0.51724611, 0.51720439])"
      ]
     },
     "execution_count": 179,
     "metadata": {},
     "output_type": "execute_result"
    }
   ],
   "source": [
    "cv_results_['gridsearchcv'].cv_results_['mean_test_score']"
   ]
  },
  {
   "cell_type": "code",
   "execution_count": null,
   "id": "8da15b9f-f34a-47fc-bf62-96c5ceb36932",
   "metadata": {},
   "outputs": [],
   "source": []
  }
 ],
 "metadata": {
  "kernelspec": {
   "display_name": "Python 3 (ipykernel)",
   "language": "python",
   "name": "python3"
  },
  "language_info": {
   "codemirror_mode": {
    "name": "ipython",
    "version": 3
   },
   "file_extension": ".py",
   "mimetype": "text/x-python",
   "name": "python",
   "nbconvert_exporter": "python",
   "pygments_lexer": "ipython3",
   "version": "3.7.16"
  }
 },
 "nbformat": 4,
 "nbformat_minor": 5
}
