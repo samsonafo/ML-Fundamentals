{
 "cells": [
  {
   "cell_type": "markdown",
   "metadata": {},
   "source": [
    "# About Me\n",
    "\n",
    "### Samson Afolabi\n",
    "### Data Scientist, ShareNow (now Free2Move)\n",
    "- 2014 - Bsc Mathematics\n",
    "- before 2019 - Msc Mathematics\n",
    "- 2019 - Attended DSR\n",
    "- 2020 -> 2022: Data Scientist at BASF\n",
    "    - Procurement, Accounting Data.\n",
    "    - SQL, Python, Spark\n",
    "- 2020 -> teaching at DSR\n",
    "- 2022 -> Today : Team Lead - Marketing & Customer Analytics\\\n",
    "               : Data Scientist at ShareNow\n",
    "    - Marketing\n",
    "    - Sales \n",
    "    - Customer Analytics\n",
    "\n",
    "#### About Me:\n",
    "Website - www.samafolabi.com  \n",
    "Meduim - https://samsonafolabi.medium.com/  \n",
    "Linkedin - https://www.linkedin.com/in/samson-afolabi/\n",
    "\n",
    "YouTube - https://www.youtube.com/@samson_afolabi"
   ]
  },
  {
   "cell_type": "markdown",
   "metadata": {},
   "source": [
    "# About You:\n",
    "- Name\n",
    "- Background (work & academic)\n",
    "- Why are you doing DSR?"
   ]
  },
  {
   "cell_type": "code",
   "execution_count": null,
   "metadata": {},
   "outputs": [],
   "source": []
  }
 ],
 "metadata": {
  "kernelspec": {
   "display_name": "Python 3 (ipykernel)",
   "language": "python",
   "name": "python3"
  },
  "language_info": {
   "codemirror_mode": {
    "name": "ipython",
    "version": 3
   },
   "file_extension": ".py",
   "mimetype": "text/x-python",
   "name": "python",
   "nbconvert_exporter": "python",
   "pygments_lexer": "ipython3",
   "version": "3.7.16"
  }
 },
 "nbformat": 4,
 "nbformat_minor": 4
}
