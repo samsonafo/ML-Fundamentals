{
 "cells": [
  {
   "cell_type": "markdown",
   "id": "e8296407-a39a-484e-8e34-85a4c4226ef9",
   "metadata": {},
   "source": [
    "#### K-Nearest Neighbors"
   ]
  },
  {
   "cell_type": "markdown",
   "id": "7bff29ae-e443-44ac-93a8-f8f293598ed6",
   "metadata": {},
   "source": [
    "'''The KNN algorithm assumes that similar things exist in close proximity. In other words, similar things are near to each other.'''\n",
    "\n",
    "![k-Nearest-Neigbhour](./img/knn.png)"
   ]
  },
  {
   "cell_type": "markdown",
   "id": "a11390ee-03fd-4f61-aa3f-ccd90f197c6e",
   "metadata": {},
   "source": [
    "Notice in the image above that most of the time, similar data points are close to each other. \n",
    "\n",
    "The KNN algorithm hinges on this assumption being true enough for the algorithm to be useful. \n",
    "\n",
    "KNN captures the idea of similarity (sometimes called distance, proximity, or closeness) with some mathematics we might have learned in our childhood— calculating the distance between points on a graph."
   ]
  },
  {
   "cell_type": "markdown",
   "id": "975e1c06-eb87-42e8-8dc1-78b9807be202",
   "metadata": {},
   "source": [
    "#### When do we use KNN algorithm?\n",
    "\n",
    "KNN can be used for both classification and regression predictive problems. \n",
    "\n",
    "However, it is more widely used in classification problems in the industry"
   ]
  },
  {
   "cell_type": "markdown",
   "id": "831a8069-117c-4178-a219-a5108f06eb85",
   "metadata": {},
   "source": [
    "##### How does the KNN algorithm work?\n",
    "\n",
    "Let’s take a simple case to understand this algorithm. Following is a spread of red circles (RC) and green squares (GS) :\n",
    "\n",
    "![k-Nearest-Neigbhour](./img/knn-scenario1.png)\n",
    "\n",
    "You intend to find out the class of the blue star (BS). BS can either be RC or GS and nothing else. \n",
    "\n",
    "The “K” is KNN algorithm is the nearest neighbor we wish to take the vote from. Let’s say K = 3. Hence, we will now make a circle with BS as the center just as big as to enclose only three datapoints on the plane. Refer to the following diagram for more details:\n",
    "\n",
    "![k-Nearest-Neigbhour](./img/knn-scenario2.png)\n",
    "\n",
    "The three closest points to BS is all RC. Hence, with a good confidence level, we can say that the BS should belong to the class RC. Here, the choice became very obvious as all three votes from the closest neighbor went to RC. The choice of the parameter K is very crucial in this algorithm. Next, we will understand what are the factors to be considered to conclude the best K."
   ]
  },
  {
   "cell_type": "code",
   "execution_count": 4,
   "id": "a7bfc7b8-ab4c-4c36-83ce-b0e1689ff36c",
   "metadata": {},
   "outputs": [
    {
     "data": {
      "text/html": [
       "<div>\n",
       "<style scoped>\n",
       "    .dataframe tbody tr th:only-of-type {\n",
       "        vertical-align: middle;\n",
       "    }\n",
       "\n",
       "    .dataframe tbody tr th {\n",
       "        vertical-align: top;\n",
       "    }\n",
       "\n",
       "    .dataframe thead th {\n",
       "        text-align: right;\n",
       "    }\n",
       "</style>\n",
       "<table border=\"1\" class=\"dataframe\">\n",
       "  <thead>\n",
       "    <tr style=\"text-align: right;\">\n",
       "      <th></th>\n",
       "      <th>fixed acidity</th>\n",
       "      <th>volatile acidity</th>\n",
       "      <th>citric acid</th>\n",
       "      <th>residual sugar</th>\n",
       "      <th>chlorides</th>\n",
       "      <th>free sulfur dioxide</th>\n",
       "      <th>total sulfur dioxide</th>\n",
       "      <th>density</th>\n",
       "      <th>pH</th>\n",
       "      <th>sulphates</th>\n",
       "      <th>alcohol</th>\n",
       "      <th>quality</th>\n",
       "    </tr>\n",
       "  </thead>\n",
       "  <tbody>\n",
       "    <tr>\n",
       "      <th>0</th>\n",
       "      <td>7.4</td>\n",
       "      <td>0.70</td>\n",
       "      <td>0.00</td>\n",
       "      <td>1.9</td>\n",
       "      <td>0.076</td>\n",
       "      <td>11.0</td>\n",
       "      <td>34.0</td>\n",
       "      <td>0.9978</td>\n",
       "      <td>3.51</td>\n",
       "      <td>0.56</td>\n",
       "      <td>9.4</td>\n",
       "      <td>5</td>\n",
       "    </tr>\n",
       "    <tr>\n",
       "      <th>1</th>\n",
       "      <td>7.8</td>\n",
       "      <td>0.88</td>\n",
       "      <td>0.00</td>\n",
       "      <td>2.6</td>\n",
       "      <td>0.098</td>\n",
       "      <td>25.0</td>\n",
       "      <td>67.0</td>\n",
       "      <td>0.9968</td>\n",
       "      <td>3.20</td>\n",
       "      <td>0.68</td>\n",
       "      <td>9.8</td>\n",
       "      <td>5</td>\n",
       "    </tr>\n",
       "    <tr>\n",
       "      <th>2</th>\n",
       "      <td>7.8</td>\n",
       "      <td>0.76</td>\n",
       "      <td>0.04</td>\n",
       "      <td>2.3</td>\n",
       "      <td>0.092</td>\n",
       "      <td>15.0</td>\n",
       "      <td>54.0</td>\n",
       "      <td>0.9970</td>\n",
       "      <td>3.26</td>\n",
       "      <td>0.65</td>\n",
       "      <td>9.8</td>\n",
       "      <td>5</td>\n",
       "    </tr>\n",
       "    <tr>\n",
       "      <th>3</th>\n",
       "      <td>11.2</td>\n",
       "      <td>0.28</td>\n",
       "      <td>0.56</td>\n",
       "      <td>1.9</td>\n",
       "      <td>0.075</td>\n",
       "      <td>17.0</td>\n",
       "      <td>60.0</td>\n",
       "      <td>0.9980</td>\n",
       "      <td>3.16</td>\n",
       "      <td>0.58</td>\n",
       "      <td>9.8</td>\n",
       "      <td>6</td>\n",
       "    </tr>\n",
       "    <tr>\n",
       "      <th>4</th>\n",
       "      <td>7.4</td>\n",
       "      <td>0.70</td>\n",
       "      <td>0.00</td>\n",
       "      <td>1.9</td>\n",
       "      <td>0.076</td>\n",
       "      <td>11.0</td>\n",
       "      <td>34.0</td>\n",
       "      <td>0.9978</td>\n",
       "      <td>3.51</td>\n",
       "      <td>0.56</td>\n",
       "      <td>9.4</td>\n",
       "      <td>5</td>\n",
       "    </tr>\n",
       "  </tbody>\n",
       "</table>\n",
       "</div>"
      ],
      "text/plain": [
       "   fixed acidity  volatile acidity  citric acid  residual sugar  chlorides  \\\n",
       "0            7.4              0.70         0.00             1.9      0.076   \n",
       "1            7.8              0.88         0.00             2.6      0.098   \n",
       "2            7.8              0.76         0.04             2.3      0.092   \n",
       "3           11.2              0.28         0.56             1.9      0.075   \n",
       "4            7.4              0.70         0.00             1.9      0.076   \n",
       "\n",
       "   free sulfur dioxide  total sulfur dioxide  density    pH  sulphates  \\\n",
       "0                 11.0                  34.0   0.9978  3.51       0.56   \n",
       "1                 25.0                  67.0   0.9968  3.20       0.68   \n",
       "2                 15.0                  54.0   0.9970  3.26       0.65   \n",
       "3                 17.0                  60.0   0.9980  3.16       0.58   \n",
       "4                 11.0                  34.0   0.9978  3.51       0.56   \n",
       "\n",
       "   alcohol  quality  \n",
       "0      9.4        5  \n",
       "1      9.8        5  \n",
       "2      9.8        5  \n",
       "3      9.8        6  \n",
       "4      9.4        5  "
      ]
     },
     "execution_count": 4,
     "metadata": {},
     "output_type": "execute_result"
    }
   ],
   "source": [
    "#import data\n",
    "import pandas as pd\n",
    "\n",
    "df = pd.read_csv('./data/winequality-red.csv')\n",
    "df.head()"
   ]
  },
  {
   "cell_type": "code",
   "execution_count": 31,
   "id": "1972f8b7-84d4-4697-9e9b-05d63d8aacb6",
   "metadata": {},
   "outputs": [],
   "source": [
    "#import knn\n",
    "\n",
    "from sklearn.neighbors import KNeighborsRegressor\n",
    "from sklearn.model_selection import train_test_split\n",
    "from sklearn.metrics import mean_absolute_error\n",
    "\n",
    "#define model\n",
    "knn = KNeighborsRegressor(n_neighbors=4)"
   ]
  },
  {
   "cell_type": "code",
   "execution_count": 32,
   "id": "4c88346d-e57b-4177-8636-b974470ae583",
   "metadata": {},
   "outputs": [
    {
     "data": {
      "text/plain": [
       "KNeighborsRegressor(n_neighbors=4)"
      ]
     },
     "execution_count": 32,
     "metadata": {},
     "output_type": "execute_result"
    }
   ],
   "source": [
    "#assign x and y\n",
    "\n",
    "y = df.quality\n",
    "x = df.drop('quality',axis=1)\n",
    "\n",
    "#split train and test\n",
    "x_train,x_test,y_train,y_test = train_test_split(x,y,test_size=0.2,random_state=42)\n",
    "\n",
    "#fit the model\n",
    "knn.fit(x_train,y_train)"
   ]
  },
  {
   "cell_type": "code",
   "execution_count": 33,
   "id": "c0e8e961-a78d-4174-baaa-53b490892911",
   "metadata": {},
   "outputs": [],
   "source": [
    "preds = knn.predict(x_test)"
   ]
  },
  {
   "cell_type": "code",
   "execution_count": 35,
   "id": "6a68505e-b5ea-4ef3-89fe-13e38e762dfc",
   "metadata": {},
   "outputs": [
    {
     "data": {
      "text/plain": [
       "array([5.75, 5.  , 6.25, 5.5 , 6.  , 5.5 , 5.25, 5.25, 5.5 , 5.5 , 7.25,\n",
       "       4.75, 6.  , 6.  , 5.75, 7.  , 5.5 , 5.5 , 6.5 , 5.5 , 5.75, 5.75,\n",
       "       6.  , 6.  , 5.75, 6.  , 6.  , 5.5 , 5.  , 6.  , 5.  , 5.25, 5.25,\n",
       "       5.5 , 5.5 , 5.  , 6.  , 5.5 , 5.75, 5.5 , 5.75, 5.  , 5.5 , 5.  ,\n",
       "       6.  , 5.5 , 6.5 , 6.  , 5.  , 5.25, 5.  , 5.25, 5.25, 6.75, 5.  ,\n",
       "       5.25, 6.25, 6.25, 6.  , 5.5 , 5.75, 6.75, 5.75, 5.  , 5.5 , 5.75,\n",
       "       6.25, 5.25, 5.5 , 5.5 , 6.  , 5.  , 5.75, 5.5 , 6.  , 5.25, 5.25,\n",
       "       5.  , 5.25, 5.25, 5.25, 6.25, 6.  , 5.25, 5.75, 5.25, 5.25, 5.5 ,\n",
       "       6.  , 5.  , 5.75, 5.25, 5.  , 5.5 , 5.  , 5.75, 5.5 , 5.75, 5.5 ,\n",
       "       5.25, 5.25, 5.  , 5.75, 6.  , 6.  , 6.25, 5.75, 5.75, 5.  , 5.  ,\n",
       "       6.25, 5.5 , 6.25, 5.  , 6.25, 6.25, 6.  , 5.5 , 5.  , 6.5 , 5.25,\n",
       "       5.25, 5.75, 5.25, 5.  , 5.5 , 5.75, 5.5 , 5.  , 6.  , 5.75, 5.75,\n",
       "       5.5 , 6.25, 5.25, 5.75, 5.25, 5.5 , 5.5 , 6.  , 5.75, 5.25, 6.5 ,\n",
       "       5.25, 5.5 , 5.25, 6.  , 6.25, 5.5 , 5.  , 5.5 , 6.5 , 5.75, 5.25,\n",
       "       5.75, 5.75, 5.25, 5.75, 6.  , 6.  , 6.  , 5.5 , 5.25, 5.  , 5.75,\n",
       "       5.75, 5.5 , 5.75, 5.25, 5.  , 5.5 , 5.  , 6.5 , 5.5 , 5.75, 6.  ,\n",
       "       5.5 , 5.25, 5.25, 6.5 , 5.5 , 5.5 , 5.25, 6.5 , 5.25, 5.5 , 5.75,\n",
       "       5.75, 6.5 , 5.5 , 5.25, 5.5 , 5.5 , 6.5 , 5.  , 5.25, 5.75, 5.5 ,\n",
       "       5.5 , 6.25, 5.25, 5.25, 5.  , 5.75, 6.  , 5.5 , 5.5 , 6.25, 5.25,\n",
       "       5.5 , 6.75, 5.  , 5.75, 6.25, 6.25, 6.25, 6.25, 6.  , 5.5 , 5.5 ,\n",
       "       6.  , 5.5 , 5.5 , 5.75, 6.  , 5.75, 5.5 , 6.  , 5.  , 6.25, 6.25,\n",
       "       5.5 , 7.  , 5.  , 6.  , 6.25, 5.25, 5.75, 5.5 , 5.  , 6.5 , 5.25,\n",
       "       5.5 , 6.25, 5.75, 6.25, 5.25, 5.25, 7.  , 5.  , 5.5 , 5.5 , 5.75,\n",
       "       5.75, 6.  , 5.5 , 5.75, 5.75, 7.  , 6.  , 5.5 , 6.  , 5.25, 7.  ,\n",
       "       6.  , 6.5 , 5.25, 5.  , 6.25, 5.5 , 5.75, 5.  , 5.75, 5.75, 5.75,\n",
       "       5.75, 5.75, 6.5 , 5.5 , 5.75, 5.75, 6.  , 5.  , 5.25, 5.25, 6.75,\n",
       "       5.  , 5.25, 5.75, 5.5 , 5.25, 6.75, 5.  , 6.  , 5.  , 5.5 , 5.  ,\n",
       "       6.25, 5.5 , 6.  , 5.25, 5.25, 5.5 , 6.25, 5.5 , 5.25, 5.75, 5.  ,\n",
       "       6.5 , 6.75, 5.25, 5.25, 5.25, 5.25, 5.5 , 6.5 , 6.5 , 5.25, 5.5 ,\n",
       "       5.5 ])"
      ]
     },
     "execution_count": 35,
     "metadata": {},
     "output_type": "execute_result"
    }
   ],
   "source": [
    "preds"
   ]
  },
  {
   "cell_type": "code",
   "execution_count": 34,
   "id": "d317b0e9-853f-4c7e-b07c-d50462520ed7",
   "metadata": {},
   "outputs": [
    {
     "data": {
      "text/plain": [
       "0.584375"
      ]
     },
     "execution_count": 34,
     "metadata": {},
     "output_type": "execute_result"
    }
   ],
   "source": [
    "mean_absolute_error(y_test,preds)"
   ]
  },
  {
   "cell_type": "code",
   "execution_count": null,
   "id": "b7b4ddc0-cd37-40a5-826f-b58616bcdbcd",
   "metadata": {},
   "outputs": [],
   "source": []
  }
 ],
 "metadata": {
  "kernelspec": {
   "display_name": "Python 3 (ipykernel)",
   "language": "python",
   "name": "python3"
  },
  "language_info": {
   "codemirror_mode": {
    "name": "ipython",
    "version": 3
   },
   "file_extension": ".py",
   "mimetype": "text/x-python",
   "name": "python",
   "nbconvert_exporter": "python",
   "pygments_lexer": "ipython3",
   "version": "3.7.16"
  }
 },
 "nbformat": 4,
 "nbformat_minor": 5
}
